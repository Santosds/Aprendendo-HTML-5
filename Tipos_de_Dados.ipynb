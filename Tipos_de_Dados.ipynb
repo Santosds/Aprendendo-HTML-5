{
  "nbformat": 4,
  "nbformat_minor": 0,
  "metadata": {
    "colab": {
      "provenance": [],
      "authorship_tag": "ABX9TyOiy/aOhlxhzWsFqRp1TUWo",
      "include_colab_link": true
    },
    "kernelspec": {
      "name": "python3",
      "display_name": "Python 3"
    },
    "language_info": {
      "name": "python"
    }
  },
  "cells": [
    {
      "cell_type": "markdown",
      "metadata": {
        "id": "view-in-github",
        "colab_type": "text"
      },
      "source": [
        "<a href=\"https://colab.research.google.com/github/Santosds/Aprendendo-HTML-5/blob/master/Tipos_de_Dados.ipynb\" target=\"_parent\"><img src=\"https://colab.research.google.com/assets/colab-badge.svg\" alt=\"Open In Colab\"/></a>"
      ]
    },
    {
      "cell_type": "markdown",
      "source": [
        "# Tipos de Dados\n",
        "\n",
        "* Listas - são criados utilizando [colchete] - serve para armazenar e manipular uma coleção de itens de forma organizada.\n",
        "\n",
        "* Tuplas - são criados utilizando (parentese) - serve para armazenar um conjunto de elementos de forma ordenada e imutável.\n",
        "\n",
        "* Dicionários - são criados utilizando {chaves} - serve para armazenar e organizar dados de forma eficiente, permitindo que você acesse e manipule informações de forma intuitiva."
      ],
      "metadata": {
        "id": "oj0gkzaw0WwR"
      }
    },
    {
      "cell_type": "code",
      "execution_count": null,
      "metadata": {
        "id": "WzEWWNc4yMJj"
      },
      "outputs": [],
      "source": []
    },
    {
      "cell_type": "code",
      "source": [
        "# listas\n",
        "\n",
        "Lista_exemplo_01 = [1, 2, 3, 4, 5]\n",
        "Lista_exemplo_02 = ['melancia', 'Raposa', 'Idade', 4, 5]\n",
        "Lista_exemplo_03 = [True, False, 1, 'quatro']"
      ],
      "metadata": {
        "id": "hpWAW4121x5K"
      },
      "execution_count": 6,
      "outputs": []
    },
    {
      "cell_type": "code",
      "source": [
        "print (Lista_exemplo_01)\n",
        "print (Lista_exemplo_02)\n",
        "print (Lista_exemplo_03)"
      ],
      "metadata": {
        "colab": {
          "base_uri": "https://localhost:8080/"
        },
        "id": "TBaBUdWU2lm7",
        "outputId": "6187eb02-81f0-42e9-9e60-3d260160b566"
      },
      "execution_count": 7,
      "outputs": [
        {
          "output_type": "stream",
          "name": "stdout",
          "text": [
            "[1, 2, 3, 4, 5]\n",
            "['melancia', 'Raposa', 'Idade', 4, 5]\n",
            "[True, False, 1, 'quatro']\n"
          ]
        }
      ]
    },
    {
      "cell_type": "code",
      "source": [
        "# tuplas - os dados armazenados não podem ser alterados\n",
        "\n",
        "tuplas_exemplo_01 = ( 1, 2, 3, 4, 5)\n",
        "tuplas_exemplo_02 = ('melancia', 'Raposa', 'Idade', 4, 5)\n",
        "tuplas_exemplo_03 = (True, False, 1, 'quatro')"
      ],
      "metadata": {
        "id": "vzqat1UZ2oyN"
      },
      "execution_count": 8,
      "outputs": []
    },
    {
      "cell_type": "code",
      "source": [
        "print (tuplas_exemplo_01)\n",
        "print (tuplas_exemplo_02)\n",
        "print (tuplas_exemplo_03)"
      ],
      "metadata": {
        "colab": {
          "base_uri": "https://localhost:8080/"
        },
        "id": "gIzYHqY04b9n",
        "outputId": "92e28f6e-0583-4c60-c4b1-09d9b90710f6"
      },
      "execution_count": 9,
      "outputs": [
        {
          "output_type": "stream",
          "name": "stdout",
          "text": [
            "(1, 2, 3, 4, 5)\n",
            "('melancia', 'Raposa', 'Idade', 4, 5)\n",
            "(True, False, 1, 'quatro')\n"
          ]
        }
      ]
    },
    {
      "cell_type": "code",
      "source": [
        "# dicionário\n",
        "\n",
        "dicionario_exemplo_01 = {'nome': 'João', 'idade': 30, 'cidade': 'São Paulo'}\n",
        "dicionario_exemplo_02 = {'nome': 'Maria', 'idade': 25, 'cidade': 'Rio de Janeiro'}\n",
        "dicionario_exemplo_03 = {'id': 451, 'id': 384}\n",
        "\n",
        "print (dicionario_exemplo_01)\n",
        "print (dicionario_exemplo_02)\n",
        "print (dicionario_exemplo_03)"
      ],
      "metadata": {
        "colab": {
          "base_uri": "https://localhost:8080/"
        },
        "id": "P-m29nwI4kQn",
        "outputId": "0baf9b4e-17a7-4120-86e0-de1994f840bf"
      },
      "execution_count": 10,
      "outputs": [
        {
          "output_type": "stream",
          "name": "stdout",
          "text": [
            "{'nome': 'João', 'idade': 30, 'cidade': 'São Paulo'}\n",
            "{'nome': 'Maria', 'idade': 25, 'cidade': 'Rio de Janeiro'}\n",
            "{'id': 384}\n"
          ]
        }
      ]
    }
  ]
}