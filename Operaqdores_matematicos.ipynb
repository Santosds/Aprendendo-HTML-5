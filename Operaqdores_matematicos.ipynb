{
  "nbformat": 4,
  "nbformat_minor": 0,
  "metadata": {
    "colab": {
      "provenance": [],
      "authorship_tag": "ABX9TyM9xpzWS9Ctr2yCQT/BGrxR",
      "include_colab_link": true
    },
    "kernelspec": {
      "name": "python3",
      "display_name": "Python 3"
    },
    "language_info": {
      "name": "python"
    }
  },
  "cells": [
    {
      "cell_type": "markdown",
      "metadata": {
        "id": "view-in-github",
        "colab_type": "text"
      },
      "source": [
        "<a href=\"https://colab.research.google.com/github/Santosds/Aprendendo-HTML-5/blob/master/Operaqdores_matematicos.ipynb\" target=\"_parent\"><img src=\"https://colab.research.google.com/assets/colab-badge.svg\" alt=\"Open In Colab\"/></a>"
      ]
    },
    {
      "cell_type": "markdown",
      "source": [
        "# Os operadores são usados ​​para realizar operações em variáveis ​​e valores:\n",
        "\n",
        "    Soma\n",
        "    Subtração\n",
        "    Multiplicação\n",
        "    Divisão\n",
        "    Exponenciação\n",
        "    Resto da Divisão\n",
        "    Divisão de Chão\n"
      ],
      "metadata": {
        "id": "TFjiXe0t-lo6"
      }
    },
    {
      "cell_type": "code",
      "execution_count": 2,
      "metadata": {
        "colab": {
          "base_uri": "https://localhost:8080/"
        },
        "id": "7ngCGSzf8lfZ",
        "outputId": "588d1a1b-6858-4538-e00e-f91bead08bd1"
      },
      "outputs": [
        {
          "output_type": "execute_result",
          "data": {
            "text/plain": [
              "2"
            ]
          },
          "metadata": {},
          "execution_count": 2
        }
      ],
      "source": [
        "# Soma\n",
        "1+1\n"
      ]
    },
    {
      "cell_type": "code",
      "source": [
        "# subtração\n",
        "9-4"
      ],
      "metadata": {
        "colab": {
          "base_uri": "https://localhost:8080/"
        },
        "id": "U0T8B5nV9322",
        "outputId": "2c52e764-cda8-48ab-e71f-b4c76923e5fa"
      },
      "execution_count": 4,
      "outputs": [
        {
          "output_type": "execute_result",
          "data": {
            "text/plain": [
              "5"
            ]
          },
          "metadata": {},
          "execution_count": 4
        }
      ]
    },
    {
      "cell_type": "code",
      "source": [
        "# divisão\n",
        "10/5"
      ],
      "metadata": {
        "colab": {
          "base_uri": "https://localhost:8080/"
        },
        "id": "-p9mM8yL-FTV",
        "outputId": "f6d69298-aebf-471f-eac3-4b3fb1674618"
      },
      "execution_count": 5,
      "outputs": [
        {
          "output_type": "execute_result",
          "data": {
            "text/plain": [
              "2.0"
            ]
          },
          "metadata": {},
          "execution_count": 5
        }
      ]
    },
    {
      "cell_type": "code",
      "source": [
        "# multiplicação\n",
        "2*3"
      ],
      "metadata": {
        "colab": {
          "base_uri": "https://localhost:8080/"
        },
        "id": "DYAeAM2Z-aNk",
        "outputId": "dfba5d48-59f0-4db2-efcf-4c30a2d7c88d"
      },
      "execution_count": 6,
      "outputs": [
        {
          "output_type": "execute_result",
          "data": {
            "text/plain": [
              "6"
            ]
          },
          "metadata": {},
          "execution_count": 6
        }
      ]
    },
    {
      "cell_type": "code",
      "source": [
        "# exponenciação\n",
        "2**3"
      ],
      "metadata": {
        "colab": {
          "base_uri": "https://localhost:8080/"
        },
        "id": "i3R5Folm-glX",
        "outputId": "70523374-59e9-40f5-f6f8-5237bdd02b2a"
      },
      "execution_count": 8,
      "outputs": [
        {
          "output_type": "execute_result",
          "data": {
            "text/plain": [
              "8"
            ]
          },
          "metadata": {},
          "execution_count": 8
        }
      ]
    },
    {
      "cell_type": "code",
      "source": [
        "# resto da divisão\n",
        "3%4"
      ],
      "metadata": {
        "colab": {
          "base_uri": "https://localhost:8080/"
        },
        "id": "rzDkTaMg_CTj",
        "outputId": "da70655c-d7e9-49a4-b682-f58c24207138"
      },
      "execution_count": 9,
      "outputs": [
        {
          "output_type": "execute_result",
          "data": {
            "text/plain": [
              "3"
            ]
          },
          "metadata": {},
          "execution_count": 9
        }
      ]
    },
    {
      "cell_type": "code",
      "source": [
        "# Divisão de chão\n",
        "3//4"
      ],
      "metadata": {
        "colab": {
          "base_uri": "https://localhost:8080/"
        },
        "id": "l4MDlJKM_VVC",
        "outputId": "32758d90-a8e2-40a0-cf3b-d12f7c564c7c"
      },
      "execution_count": 10,
      "outputs": [
        {
          "output_type": "execute_result",
          "data": {
            "text/plain": [
              "0"
            ]
          },
          "metadata": {},
          "execution_count": 10
        }
      ]
    },
    {
      "cell_type": "code",
      "source": [
        "# operadores:\n",
        "\n",
        "Soma = 1+1\n",
        "Subtração = 9-4\n",
        "Multiplicação = 2*3\n",
        "Divisão = 10/5\n",
        "Exponenciação = 2**3\n",
        "resto_da_divisão = 3 % 4\n",
        "Divisão_de_Chão = 3//4\n",
        "\n",
        "#print formatacao\n",
        "\n",
        "print(f'Soma: {Soma}')\n",
        "print(f'Subtração: {Subtração}')\n",
        "print(f'Multiplicação: {Multiplicação}')\n",
        "print(f'Divisão: {Divisão}')\n",
        "print(f'Exponenciação: {Exponenciação}')\n",
        "print(f'resto_da_divisão: {resto_da_divisão}')\n",
        "print(f'Divisão_de_Chão: {Divisão_de_Chão}')"
      ],
      "metadata": {
        "colab": {
          "base_uri": "https://localhost:8080/"
        },
        "id": "WgQ0-DGY_hOS",
        "outputId": "7d4edd2a-1bc7-451a-fbef-1f569b117dd4"
      },
      "execution_count": 14,
      "outputs": [
        {
          "output_type": "stream",
          "name": "stdout",
          "text": [
            "Soma: 2\n",
            "Subtração: 5\n",
            "Multiplicação: 6\n",
            "Divisão: 2.0\n",
            "Exponenciação: 8\n",
            "resto_da_divisão: 3\n",
            "Divisão_de_Chão: 0\n"
          ]
        }
      ]
    },
    {
      "cell_type": "code",
      "source": [],
      "metadata": {
        "id": "N0rCpMrkAE44"
      },
      "execution_count": null,
      "outputs": []
    }
  ]
}