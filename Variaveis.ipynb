{
  "nbformat": 4,
  "nbformat_minor": 0,
  "metadata": {
    "colab": {
      "provenance": [],
      "authorship_tag": "ABX9TyMFSrJ1wG4EhH2CCc0jOh12",
      "include_colab_link": true
    },
    "kernelspec": {
      "name": "python3",
      "display_name": "Python 3"
    },
    "language_info": {
      "name": "python"
    }
  },
  "cells": [
    {
      "cell_type": "markdown",
      "metadata": {
        "id": "view-in-github",
        "colab_type": "text"
      },
      "source": [
        "<a href=\"https://colab.research.google.com/github/Santosds/Aprendendo-HTML-5/blob/master/Variaveis.ipynb\" target=\"_parent\"><img src=\"https://colab.research.google.com/assets/colab-badge.svg\" alt=\"Open In Colab\"/></a>"
      ]
    },
    {
      "cell_type": "markdown",
      "source": [
        "Variáveis ​​são contêineres para armazenar valores de dados.\n",
        "\n",
        "Uma variável é criada no momento em que você atribui um valor a ela."
      ],
      "metadata": {
        "id": "zOZcw_0KCOn3"
      }
    },
    {
      "cell_type": "code",
      "execution_count": 1,
      "metadata": {
        "id": "hJSMta4-CCNs"
      },
      "outputs": [],
      "source": [
        "Nome = 'Santos Jr'"
      ]
    },
    {
      "cell_type": "code",
      "source": [
        "Nome"
      ],
      "metadata": {
        "colab": {
          "base_uri": "https://localhost:8080/",
          "height": 55
        },
        "id": "EazhUGr6KyPc",
        "outputId": "43031b13-051a-4141-ad1e-f9e5e5282cb9"
      },
      "execution_count": 2,
      "outputs": [
        {
          "output_type": "execute_result",
          "data": {
            "text/plain": [
              "'Santos Jr'"
            ],
            "application/vnd.google.colaboratory.intrinsic+json": {
              "type": "string"
            }
          },
          "metadata": {},
          "execution_count": 2
        }
      ]
    },
    {
      "cell_type": "code",
      "source": [
        "# variaveis de texto\n",
        "\n",
        "texto_01 = 'Um texto'\n",
        "texto_02 = str('Outro texto')"
      ],
      "metadata": {
        "id": "VEMhqpyrK3KS"
      },
      "execution_count": 3,
      "outputs": []
    },
    {
      "cell_type": "code",
      "source": [
        "print(texto_01, texto_02)"
      ],
      "metadata": {
        "colab": {
          "base_uri": "https://localhost:8080/"
        },
        "id": "SgH2j93JLTLZ",
        "outputId": "bd35e4d0-aa73-4540-ceeb-354a85c7e65f"
      },
      "execution_count": 4,
      "outputs": [
        {
          "output_type": "stream",
          "name": "stdout",
          "text": [
            "Um texto Outro texto\n"
          ]
        }
      ]
    },
    {
      "cell_type": "code",
      "source": [
        "# variaveis numericas\n",
        "\n",
        "var_inteiro_01 = (100)\n",
        "var_inteiro_02 = int(200)\n",
        "\n",
        "print(var_inteiro_01, var_inteiro_02)"
      ],
      "metadata": {
        "colab": {
          "base_uri": "https://localhost:8080/"
        },
        "id": "zTw8AiIDLZyK",
        "outputId": "ee23b59f-9825-46d3-e57a-9cd1a3b26e3e"
      },
      "execution_count": 7,
      "outputs": [
        {
          "output_type": "stream",
          "name": "stdout",
          "text": [
            "100 200\n"
          ]
        }
      ]
    },
    {
      "cell_type": "code",
      "source": [
        "# variaveis flutuantes\n",
        "\n",
        "var_flutuantes = 100.50\n",
        "var_flutuantes_02 = float(200.50)\n",
        "\n",
        "print(var_flutuantes, var_flutuantes_02)"
      ],
      "metadata": {
        "colab": {
          "base_uri": "https://localhost:8080/"
        },
        "id": "71TkTPW6MI8v",
        "outputId": "359eb2c2-29ca-4f5a-d7aa-abce7245d8ad"
      },
      "execution_count": 8,
      "outputs": [
        {
          "output_type": "stream",
          "name": "stdout",
          "text": [
            "100.5 200.5\n"
          ]
        }
      ]
    },
    {
      "cell_type": "code",
      "source": [
        "# variaveis boleanas\n",
        "\n",
        "var_boolean = True\n",
        "var_boolean_02 = False\n",
        "\n",
        "print(var_boolean, var_boolean_02)"
      ],
      "metadata": {
        "colab": {
          "base_uri": "https://localhost:8080/"
        },
        "id": "NdUmlSCxNnhm",
        "outputId": "d2563f9d-1522-459a-e1b4-b31c03d17d6f"
      },
      "execution_count": 9,
      "outputs": [
        {
          "output_type": "stream",
          "name": "stdout",
          "text": [
            "True False\n"
          ]
        }
      ]
    },
    {
      "cell_type": "code",
      "source": [],
      "metadata": {
        "id": "mCvnm5Y0Ny9y"
      },
      "execution_count": null,
      "outputs": []
    }
  ]
}