{
  "nbformat": 4,
  "nbformat_minor": 0,
  "metadata": {
    "colab": {
      "provenance": [],
      "authorship_tag": "ABX9TyPDcuKEBrMPvr4TUKkhaPU0",
      "include_colab_link": true
    },
    "kernelspec": {
      "name": "python3",
      "display_name": "Python 3"
    },
    "language_info": {
      "name": "python"
    }
  },
  "cells": [
    {
      "cell_type": "markdown",
      "metadata": {
        "id": "view-in-github",
        "colab_type": "text"
      },
      "source": [
        "<a href=\"https://colab.research.google.com/github/Santosds/Aprendendo-HTML-5/blob/master/Nomea%C3%A7%C3%A3o_de_Vari%C3%A1veis.ipynb\" target=\"_parent\"><img src=\"https://colab.research.google.com/assets/colab-badge.svg\" alt=\"Open In Colab\"/></a>"
      ]
    },
    {
      "cell_type": "markdown",
      "source": [
        "# 5º Nomeação de variáveis <p>\n",
        "Podemos nomear variáveis e tipos de dados de diversas formas:\n",
        "1. Declarar as variáveis em uma única linha de comando;\n",
        "2. Atribuir um valor à diversas variáveis;\n",
        "3. Declarar usando uma Lista;\n",
        "4. Combinar variáveis;\n",
        "5. Operar com operadores matemáticos;\n",
        "6. Muitos outros."
      ],
      "metadata": {
        "id": "v35kLN44i9fd"
      }
    },
    {
      "cell_type": "code",
      "execution_count": 1,
      "metadata": {
        "colab": {
          "base_uri": "https://localhost:8080/"
        },
        "id": "CXohl5i9ih6I",
        "outputId": "88bca71b-8f0e-4906-9bdb-6c58dc4865f4"
      },
      "outputs": [
        {
          "output_type": "stream",
          "name": "stdout",
          "text": [
            "1 2 3\n"
          ]
        }
      ],
      "source": [
        "# Exemplo 1 - Declarando as variáveis em uma única linha de comando\n",
        "\n",
        "Laranja, Melao, Uva = 1, 2, 3\n",
        "\n",
        "print(Laranja, Melao, Uva)"
      ]
    },
    {
      "cell_type": "code",
      "source": [
        "# segundo Exemplo - Atribuindo um valor para várias variáveis\n",
        "\n",
        "Romeu = Filho = Neto = 1000\n",
        "\n",
        "print(Romeu, Filho, Neto)"
      ],
      "metadata": {
        "colab": {
          "base_uri": "https://localhost:8080/"
        },
        "id": "ohMFzi6qjoJM",
        "outputId": "29e3790d-8515-4c7e-f096-a32a320499a0"
      },
      "execution_count": 2,
      "outputs": [
        {
          "output_type": "stream",
          "name": "stdout",
          "text": [
            "1000 1000 1000\n"
          ]
        }
      ]
    },
    {
      "cell_type": "code",
      "source": [
        "# terceiro Exemplo - Declarar utilizando uma lista\n",
        "\n",
        "Carros = ['Bmw', 'Audi', 'Tessla', 'Jaguar']\n",
        "\n",
        "print(Carros)"
      ],
      "metadata": {
        "colab": {
          "base_uri": "https://localhost:8080/"
        },
        "id": "jw1xMlXLkMqC",
        "outputId": "4eb7d0a9-10d6-4660-cc36-9fe42c3a0bbb"
      },
      "execution_count": 6,
      "outputs": [
        {
          "output_type": "stream",
          "name": "stdout",
          "text": [
            "['Bmw', 'Audi', 'Tessla', 'Jaguar']\n"
          ]
        }
      ]
    },
    {
      "cell_type": "code",
      "source": [
        "# quarto Exemplo - combinando variaveis com a lista\n",
        "\n",
        "marca_01, marca_02, marca_03, marca_04 = Carros\n",
        "\n",
        "print(marca_02)"
      ],
      "metadata": {
        "colab": {
          "base_uri": "https://localhost:8080/"
        },
        "id": "DctVSvrblQFY",
        "outputId": "ddddb370-2664-463e-ca4d-f09b4e6520a5"
      },
      "execution_count": 8,
      "outputs": [
        {
          "output_type": "stream",
          "name": "stdout",
          "text": [
            "Audi\n"
          ]
        }
      ]
    },
    {
      "cell_type": "code",
      "source": [
        "# outras combinações\n",
        "\n",
        "Nome = 'Antuan'\n",
        "\n",
        "Sobrenome = 'Santos'\n",
        "nome_completo = Nome + ' ' + Sobrenome\n",
        "\n",
        "print(nome_completo)"
      ],
      "metadata": {
        "colab": {
          "base_uri": "https://localhost:8080/"
        },
        "id": "CbKQ8EnXmgrd",
        "outputId": "e3548f01-d701-4cfb-de54-49b77e09e007"
      },
      "execution_count": 9,
      "outputs": [
        {
          "output_type": "stream",
          "name": "stdout",
          "text": [
            "Antuan Santos\n"
          ]
        }
      ]
    },
    {
      "cell_type": "code",
      "source": [
        "# Experimento\n",
        "\n",
        "Nome = 'Querubim '\n",
        "Idade = str(1000000000)\n",
        "\n",
        "Nome + Idade + ' anos'\n"
      ],
      "metadata": {
        "colab": {
          "base_uri": "https://localhost:8080/",
          "height": 55
        },
        "id": "bCrXv6HaocC3",
        "outputId": "c5557e91-46ca-4bac-ed94-1989361b5b4e"
      },
      "execution_count": 16,
      "outputs": [
        {
          "output_type": "execute_result",
          "data": {
            "text/plain": [
              "'Querubim 1000000000 anos'"
            ],
            "application/vnd.google.colaboratory.intrinsic+json": {
              "type": "string"
            }
          },
          "metadata": {},
          "execution_count": 16
        }
      ]
    },
    {
      "cell_type": "code",
      "source": [
        "# Operadores matemáticos\n",
        "\n",
        "Investimento = 500\n",
        "Taxa_de_juros = float('0.2')\n",
        "\n",
        "Investimento * Taxa_de_juros\n",
        "\n",
        "print(Investimento * Taxa_de_juros)\n",
        "Valor_ganho = Investimento * Taxa_de_juros + Investimento\n",
        "print(Valor_ganho)"
      ],
      "metadata": {
        "colab": {
          "base_uri": "https://localhost:8080/"
        },
        "id": "rIUKoA4tpSMt",
        "outputId": "94b1075f-6e33-4a42-cb1e-7075623b6565"
      },
      "execution_count": 22,
      "outputs": [
        {
          "output_type": "stream",
          "name": "stdout",
          "text": [
            "100.0\n",
            "600.0\n"
          ]
        }
      ]
    },
    {
      "cell_type": "code",
      "source": [],
      "metadata": {
        "id": "o-nTeSUQqp0S"
      },
      "execution_count": null,
      "outputs": []
    }
  ]
}