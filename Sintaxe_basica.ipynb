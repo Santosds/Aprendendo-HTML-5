{
  "nbformat": 4,
  "nbformat_minor": 0,
  "metadata": {
    "colab": {
      "provenance": [],
      "toc_visible": true,
      "authorship_tag": "ABX9TyPi/xJtiW+EjvAQu717olbq",
      "include_colab_link": true
    },
    "kernelspec": {
      "name": "python3",
      "display_name": "Python 3"
    },
    "language_info": {
      "name": "python"
    }
  },
  "cells": [
    {
      "cell_type": "markdown",
      "metadata": {
        "id": "view-in-github",
        "colab_type": "text"
      },
      "source": [
        "<a href=\"https://colab.research.google.com/github/Santosds/Aprendendo-HTML-5/blob/master/Sintaxe_basica.ipynb\" target=\"_parent\"><img src=\"https://colab.research.google.com/assets/colab-badge.svg\" alt=\"Open In Colab\"/></a>"
      ]
    },
    {
      "cell_type": "markdown",
      "source": [
        "# **1. - Sintaxe básica** <p>\n",
        "Podemos utilziar ' ' (aspas simples) <p>\n",
        "Podemos utilziar \" \" (aspas duplas) <p>\n",
        "Utilizando o \\n para pular uma linha na impressão do valor <p>\n",
        "Usamos o hastgag # para comentar algo"
      ],
      "metadata": {
        "id": "2P2sCoBn1Eoj"
      }
    },
    {
      "cell_type": "code",
      "execution_count": null,
      "metadata": {
        "id": "KJdjYNBZL7zV"
      },
      "outputs": [],
      "source": []
    },
    {
      "cell_type": "code",
      "source": [
        "print(\"Deus é fiel!\")"
      ],
      "metadata": {
        "colab": {
          "base_uri": "https://localhost:8080/"
        },
        "id": "chYh4JdN3-kg",
        "outputId": "e0c8d702-022f-4b21-fed2-5453947b0e22"
      },
      "execution_count": 1,
      "outputs": [
        {
          "output_type": "stream",
          "name": "stdout",
          "text": [
            "Deus é fiel!\n"
          ]
        }
      ]
    },
    {
      "cell_type": "code",
      "source": [
        "print(\"Deus é fiel!\\nDeus é fiel!\")"
      ],
      "metadata": {
        "colab": {
          "base_uri": "https://localhost:8080/"
        },
        "id": "fplQfxt94HKX",
        "outputId": "807b97ab-7ead-4fe2-aef7-c9c5ce459bb0"
      },
      "execution_count": 2,
      "outputs": [
        {
          "output_type": "stream",
          "name": "stdout",
          "text": [
            "Deus é fiel!\n",
            "Deus é fiel!\n"
          ]
        }
      ]
    },
    {
      "cell_type": "code",
      "source": [
        "#o \\n é utilizado para pular uma linha"
      ],
      "metadata": {
        "id": "XuKdJmpz6BoK"
      },
      "execution_count": 7,
      "outputs": []
    },
    {
      "cell_type": "code",
      "source": [
        "print('Tudo vai bem!')"
      ],
      "metadata": {
        "colab": {
          "base_uri": "https://localhost:8080/"
        },
        "id": "P8d8bxor4Ok2",
        "outputId": "446c5467-fc51-4192-bc94-dff4c499d69a"
      },
      "execution_count": 3,
      "outputs": [
        {
          "output_type": "stream",
          "name": "stdout",
          "text": [
            "Tudo vai bem!\n"
          ]
        }
      ]
    },
    {
      "cell_type": "code",
      "source": [
        "#Use este caracter para comentar"
      ],
      "metadata": {
        "id": "-7z99se_413F"
      },
      "execution_count": 5,
      "outputs": []
    },
    {
      "cell_type": "code",
      "source": [
        "''' Assim também pode-se comentar, basta utilizar as aspas dessa forma'''"
      ],
      "metadata": {
        "colab": {
          "base_uri": "https://localhost:8080/",
          "height": 35
        },
        "id": "-FnTDOIx47wU",
        "outputId": "7fd6a6d3-b4c7-424d-ff6d-9f16ade662cd"
      },
      "execution_count": 6,
      "outputs": [
        {
          "output_type": "execute_result",
          "data": {
            "text/plain": [
              "' Assim também pode-se comentar, basta utilizar as aspas dessa forma'"
            ],
            "application/vnd.google.colaboratory.intrinsic+json": {
              "type": "string"
            }
          },
          "metadata": {},
          "execution_count": 6
        }
      ]
    },
    {
      "cell_type": "code",
      "source": [],
      "metadata": {
        "id": "fiFZtJm15O76"
      },
      "execution_count": null,
      "outputs": []
    }
  ]
}